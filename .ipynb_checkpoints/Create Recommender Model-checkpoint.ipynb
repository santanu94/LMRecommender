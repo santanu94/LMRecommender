{
 "cells": [
  {
   "cell_type": "code",
   "execution_count": 1,
   "metadata": {},
   "outputs": [],
   "source": [
    "from fastai.text import *\n",
    "import pandas as pd\n",
    "import numpy as np"
   ]
  },
  {
   "cell_type": "code",
   "execution_count": 2,
   "metadata": {},
   "outputs": [
    {
     "data": {
      "text/html": [
       "<div>\n",
       "<style scoped>\n",
       "    .dataframe tbody tr th:only-of-type {\n",
       "        vertical-align: middle;\n",
       "    }\n",
       "\n",
       "    .dataframe tbody tr th {\n",
       "        vertical-align: top;\n",
       "    }\n",
       "\n",
       "    .dataframe thead th {\n",
       "        text-align: right;\n",
       "    }\n",
       "</style>\n",
       "<table border=\"1\" class=\"dataframe\">\n",
       "  <thead>\n",
       "    <tr style=\"text-align: right;\">\n",
       "      <th></th>\n",
       "      <th>0</th>\n",
       "    </tr>\n",
       "  </thead>\n",
       "  <tbody>\n",
       "    <tr>\n",
       "      <th>0</th>\n",
       "      <td>tok5 tok10 tok1303 tok2861 tok489 tok9780 tok9...</td>\n",
       "    </tr>\n",
       "    <tr>\n",
       "      <th>1</th>\n",
       "      <td>tok5 tok11 tok986 tok822 tok383 tok2834 tok156...</td>\n",
       "    </tr>\n",
       "    <tr>\n",
       "      <th>2</th>\n",
       "      <td>tok10 tok5 tok8 tok150 tok445 tok5575 tok9813 ...</td>\n",
       "    </tr>\n",
       "    <tr>\n",
       "      <th>3</th>\n",
       "      <td>tok9 tok1464 tok2239 tok1756 tok1453 tok718 to...</td>\n",
       "    </tr>\n",
       "    <tr>\n",
       "      <th>4</th>\n",
       "      <td>tok8 tok7 tok1 tok795 tok113 tok538 tok620 tok...</td>\n",
       "    </tr>\n",
       "    <tr>\n",
       "      <th>...</th>\n",
       "      <td>...</td>\n",
       "    </tr>\n",
       "    <tr>\n",
       "      <th>14995</th>\n",
       "      <td>tok5 tok12 tok6 tok11 tok6744 tok9338 tok522 t...</td>\n",
       "    </tr>\n",
       "    <tr>\n",
       "      <th>14996</th>\n",
       "      <td>tok10 tok5 tok18 tok9815 tok0 tok6 tok2239 tok...</td>\n",
       "    </tr>\n",
       "    <tr>\n",
       "      <th>14997</th>\n",
       "      <td>tok5 tok8 tok2 tok1336 tok9813 tok10 tok455 to...</td>\n",
       "    </tr>\n",
       "    <tr>\n",
       "      <th>14998</th>\n",
       "      <td>tok1 tok10 tok3 tok2079 tok4054 tok961 tok617 ...</td>\n",
       "    </tr>\n",
       "    <tr>\n",
       "      <th>14999</th>\n",
       "      <td>tok1089 tok2779 tok3555 tok9714 tok9813 tok5 t...</td>\n",
       "    </tr>\n",
       "  </tbody>\n",
       "</table>\n",
       "<p>15000 rows × 1 columns</p>\n",
       "</div>"
      ],
      "text/plain": [
       "                                                       0\n",
       "0      tok5 tok10 tok1303 tok2861 tok489 tok9780 tok9...\n",
       "1      tok5 tok11 tok986 tok822 tok383 tok2834 tok156...\n",
       "2      tok10 tok5 tok8 tok150 tok445 tok5575 tok9813 ...\n",
       "3      tok9 tok1464 tok2239 tok1756 tok1453 tok718 to...\n",
       "4      tok8 tok7 tok1 tok795 tok113 tok538 tok620 tok...\n",
       "...                                                  ...\n",
       "14995  tok5 tok12 tok6 tok11 tok6744 tok9338 tok522 t...\n",
       "14996  tok10 tok5 tok18 tok9815 tok0 tok6 tok2239 tok...\n",
       "14997  tok5 tok8 tok2 tok1336 tok9813 tok10 tok455 to...\n",
       "14998  tok1 tok10 tok3 tok2079 tok4054 tok961 tok617 ...\n",
       "14999  tok1089 tok2779 tok3555 tok9714 tok9813 tok5 t...\n",
       "\n",
       "[15000 rows x 1 columns]"
      ]
     },
     "execution_count": 2,
     "metadata": {},
     "output_type": "execute_result"
    }
   ],
   "source": [
    "dataset = pd.read_csv('user_data.csv')\n",
    "dataset"
   ]
  },
  {
   "cell_type": "code",
   "execution_count": 3,
   "metadata": {},
   "outputs": [
    {
     "data": {
      "text/html": [
       "<div>\n",
       "<style scoped>\n",
       "    .dataframe tbody tr th:only-of-type {\n",
       "        vertical-align: middle;\n",
       "    }\n",
       "\n",
       "    .dataframe tbody tr th {\n",
       "        vertical-align: top;\n",
       "    }\n",
       "\n",
       "    .dataframe thead th {\n",
       "        text-align: right;\n",
       "    }\n",
       "</style>\n",
       "<table border=\"1\" class=\"dataframe\">\n",
       "  <thead>\n",
       "    <tr style=\"text-align: right;\">\n",
       "      <th></th>\n",
       "      <th>user_history</th>\n",
       "      <th>label</th>\n",
       "    </tr>\n",
       "  </thead>\n",
       "  <tbody>\n",
       "    <tr>\n",
       "      <th>0</th>\n",
       "      <td>tok5 tok10 tok1303 tok2861 tok489 tok9780 tok9...</td>\n",
       "      <td>0</td>\n",
       "    </tr>\n",
       "    <tr>\n",
       "      <th>1</th>\n",
       "      <td>tok5 tok11 tok986 tok822 tok383 tok2834 tok156...</td>\n",
       "      <td>0</td>\n",
       "    </tr>\n",
       "    <tr>\n",
       "      <th>2</th>\n",
       "      <td>tok10 tok5 tok8 tok150 tok445 tok5575 tok9813 ...</td>\n",
       "      <td>0</td>\n",
       "    </tr>\n",
       "    <tr>\n",
       "      <th>3</th>\n",
       "      <td>tok9 tok1464 tok2239 tok1756 tok1453 tok718 to...</td>\n",
       "      <td>0</td>\n",
       "    </tr>\n",
       "    <tr>\n",
       "      <th>4</th>\n",
       "      <td>tok8 tok7 tok1 tok795 tok113 tok538 tok620 tok...</td>\n",
       "      <td>0</td>\n",
       "    </tr>\n",
       "    <tr>\n",
       "      <th>...</th>\n",
       "      <td>...</td>\n",
       "      <td>...</td>\n",
       "    </tr>\n",
       "    <tr>\n",
       "      <th>14995</th>\n",
       "      <td>tok5 tok12 tok6 tok11 tok6744 tok9338 tok522 t...</td>\n",
       "      <td>0</td>\n",
       "    </tr>\n",
       "    <tr>\n",
       "      <th>14996</th>\n",
       "      <td>tok10 tok5 tok18 tok9815 tok0 tok6 tok2239 tok...</td>\n",
       "      <td>0</td>\n",
       "    </tr>\n",
       "    <tr>\n",
       "      <th>14997</th>\n",
       "      <td>tok5 tok8 tok2 tok1336 tok9813 tok10 tok455 to...</td>\n",
       "      <td>0</td>\n",
       "    </tr>\n",
       "    <tr>\n",
       "      <th>14998</th>\n",
       "      <td>tok1 tok10 tok3 tok2079 tok4054 tok961 tok617 ...</td>\n",
       "      <td>0</td>\n",
       "    </tr>\n",
       "    <tr>\n",
       "      <th>14999</th>\n",
       "      <td>tok1089 tok2779 tok3555 tok9714 tok9813 tok5 t...</td>\n",
       "      <td>0</td>\n",
       "    </tr>\n",
       "  </tbody>\n",
       "</table>\n",
       "<p>15000 rows × 2 columns</p>\n",
       "</div>"
      ],
      "text/plain": [
       "                                            user_history  label\n",
       "0      tok5 tok10 tok1303 tok2861 tok489 tok9780 tok9...      0\n",
       "1      tok5 tok11 tok986 tok822 tok383 tok2834 tok156...      0\n",
       "2      tok10 tok5 tok8 tok150 tok445 tok5575 tok9813 ...      0\n",
       "3      tok9 tok1464 tok2239 tok1756 tok1453 tok718 to...      0\n",
       "4      tok8 tok7 tok1 tok795 tok113 tok538 tok620 tok...      0\n",
       "...                                                  ...    ...\n",
       "14995  tok5 tok12 tok6 tok11 tok6744 tok9338 tok522 t...      0\n",
       "14996  tok10 tok5 tok18 tok9815 tok0 tok6 tok2239 tok...      0\n",
       "14997  tok5 tok8 tok2 tok1336 tok9813 tok10 tok455 to...      0\n",
       "14998  tok1 tok10 tok3 tok2079 tok4054 tok961 tok617 ...      0\n",
       "14999  tok1089 tok2779 tok3555 tok9714 tok9813 tok5 t...      0\n",
       "\n",
       "[15000 rows x 2 columns]"
      ]
     },
     "execution_count": 3,
     "metadata": {},
     "output_type": "execute_result"
    }
   ],
   "source": [
    "dataset.columns = ['user_history']\n",
    "dataset['label'] = np.array(0)\n",
    "dataset"
   ]
  },
  {
   "cell_type": "code",
   "execution_count": 4,
   "metadata": {},
   "outputs": [],
   "source": [
    "class CustomTokenizer(BaseTokenizer):\n",
    "    def __init__(self, max_seq_len=None, **kwargs):\n",
    "        self.max_seq_len = max_seq_len\n",
    "    \n",
    "    def tokenizer(self, t):\n",
    "        token_list = t.split()\n",
    "        if self.max_seq_len:\n",
    "            token_list[:self.max_seq_len]\n",
    "        \n",
    "        return token_list + ['xxeos']\n",
    "    \n",
    "    def __call__(self, *args, **kwargs): \n",
    "        return self\n",
    "\n",
    "def lowercase_everything(x):\n",
    "    res = []\n",
    "    for t in x:\n",
    "#         print(t)\n",
    "        if t.isupper() and len(t) > 1: res.append(t.lower())\n",
    "        else: res.append(t)\n",
    "    return res\n",
    "\n",
    "def remove_duplicates(x):\n",
    "    return list(dict.fromkeys(x))"
   ]
  },
  {
   "cell_type": "code",
   "execution_count": 5,
   "metadata": {},
   "outputs": [],
   "source": [
    "with open('token_to_value.json', 'r') as f:\n",
    "    vocab_dict = json.load(f)\n",
    "    \n",
    "vocab = Vocab(list(vocab_dict.keys()) + ['xxeos'])"
   ]
  },
  {
   "cell_type": "code",
   "execution_count": 6,
   "metadata": {},
   "outputs": [],
   "source": [
    "customtokenizer = CustomTokenizer()\n",
    "tokenizer = Tokenizer(tok_func = customtokenizer, pre_rules=[], post_rules=[remove_duplicates, lowercase_everything])\n",
    "tokenize_processor = TokenizeProcessor(tokenizer=tokenizer, include_bos=False, include_eos=False)\n",
    "\n",
    "numericalize_processor = NumericalizeProcessor(vocab=vocab)\n",
    "transformer_processor = [tokenize_processor, numericalize_processor]"
   ]
  },
  {
   "cell_type": "code",
   "execution_count": 7,
   "metadata": {},
   "outputs": [
    {
     "data": {
      "text/html": [],
      "text/plain": [
       "<IPython.core.display.HTML object>"
      ]
     },
     "metadata": {},
     "output_type": "display_data"
    },
    {
     "data": {
      "text/html": [],
      "text/plain": [
       "<IPython.core.display.HTML object>"
      ]
     },
     "metadata": {},
     "output_type": "display_data"
    }
   ],
   "source": [
    "data_lm = (TextList.from_df(dataset, cols='user_history', processor=transformer_processor)\n",
    "                .split_by_rand_pct(0.2, seed=1)\n",
    "                .label_for_lm()\n",
    "                .databunch(bs=16))"
   ]
  },
  {
   "cell_type": "code",
   "execution_count": 8,
   "metadata": {},
   "outputs": [
    {
     "data": {
      "text/html": [
       "<table border=\"1\" class=\"dataframe\">\n",
       "  <thead>\n",
       "    <tr style=\"text-align: right;\">\n",
       "      <th>idx</th>\n",
       "      <th>text</th>\n",
       "    </tr>\n",
       "  </thead>\n",
       "  <tbody>\n",
       "    <tr>\n",
       "      <td>0</td>\n",
       "      <td>tok3229 tok3230 tok1183 tok3231 tok101 tok3232 tok3018 tok3233 tok11 tok4 tok3158 tok3159 tok3160 tok335 tok812 tok2178 tok40 tok41 tok42 tok43 tok44 tok45 tok46 tok47 tok48 tok49 tok50 tok51 tok52 tok53 tok54 tok55 tok6 tok3 tok137 tok907 tok2629 tok2630 tok2100 tok2631 tok2632 tok2633 tok2634 tok6836 tok6837 tok6838 tok6839 xxeos tok9 tok1464 tok2239 tok1756 tok1453 tok718 tok1667 tok6079 tok496 tok2328 tok766 tok3949 tok2016 tok8652 tok9824 tok0 tok1 tok2 tok327 tok107 tok59 tok122</td>\n",
       "    </tr>\n",
       "    <tr>\n",
       "      <td>1</td>\n",
       "      <td>tok4801 xxeos tok5 tok390 tok1721 tok640 tok3097 tok645 tok3098 tok567 tok27 tok507 tok868 tok236 tok524 tok649 tok80 tok3099 tok430 tok3100 tok3101 tok3102 tok3103 tok3104 tok9813 tok10 tok11 tok224 tok2797 tok2965 tok2530 tok1800 tok2431 tok8606 tok4306 tok3278 tok3511 tok773 tok4539 tok8607 tok9817 tok1 tok0 tok9 tok1437 tok5673 tok8770 tok8771 tok6793 tok8772 tok4 tok6 tok1690 tok3230 tok57 tok1562 tok7336 tok522 tok1226 tok7337 tok2030 tok1244 tok1833 tok2605 tok12 tok274 tok1948 tok5225 tok1164 tok1869</td>\n",
       "    </tr>\n",
       "    <tr>\n",
       "      <td>2</td>\n",
       "      <td>tok235 tok11 tok7571 tok2723 tok429 tok9813 tok0 tok3 tok795 tok1053 tok3042 tok362 tok200 tok561 tok3378 tok562 tok18 tok14 tok8755 tok9825 tok1028 tok4441 tok3567 tok6755 tok15 tok1050 tok459 tok1054 tok748 tok930 tok752 tok419 tok3069 tok1079 tok3070 tok3071 tok3072 tok3073 tok3074 tok3075 tok3076 tok1118 tok3077 xxeos tok0 tok189 tok687 tok9813 tok1 tok10 tok2 tok215 tok1709 tok85 tok699 tok184 tok168 tok208 tok3745 tok741 tok211 tok5137 tok2575 tok2525 tok1800 tok1850 tok3014 tok4193 tok4413 tok3278</td>\n",
       "    </tr>\n",
       "    <tr>\n",
       "      <td>3</td>\n",
       "      <td>tok383 tok97 tok2487 tok1033 tok4728 tok4955 tok522 tok274 tok2560 tok686 tok413 tok4772 tok8118 tok8119 tok5 tok1604 tok6469 tok1955 tok832 tok6282 xxeos tok10 tok4 tok2530 tok1451 tok1901 tok4997 tok1827 tok8 tok9813 tok4953 tok538 tok3667 tok2362 tok5037 tok4292 tok5038 tok5039 tok5040 tok1188 tok119 tok5041 tok6 tok0 tok1 tok3 tok245 tok246 tok247 tok248 tok249 tok250 tok251 tok252 tok253 tok254 tok255 tok256 tok257 tok258 tok259 tok260 tok261 tok262 tok263 tok264 tok265 tok266 tok267 tok55</td>\n",
       "    </tr>\n",
       "    <tr>\n",
       "      <td>4</td>\n",
       "      <td>tok1800 tok1579 tok1813 tok375 tok6157 tok4738 tok2723 tok6158 tok564 tok3706 tok5560 tok11 tok433 tok2025 tok429 xxeos tok10 tok5 tok8 tok16 tok11 tok113 tok3983 tok3511 tok773 tok7553 tok119 tok9813 tok7 tok2598 tok1499 tok171 tok2599 tok663 tok741 tok2600 tok2601 tok2602 xxeos tok17 tok18 tok9813 tok10 tok2743 tok4898 tok2247 tok4899 tok1380 tok1662 tok3711 tok4900 tok2630 tok4901 tok714 tok2609 tok365 tok4180 tok651 tok0 tok4 tok5 tok6 tok1236 tok189 tok4054 tok1238 tok6053 tok165 tok5555 tok4157</td>\n",
       "    </tr>\n",
       "  </tbody>\n",
       "</table>"
      ],
      "text/plain": [
       "<IPython.core.display.HTML object>"
      ]
     },
     "metadata": {},
     "output_type": "display_data"
    }
   ],
   "source": [
    "data_lm.show_batch()"
   ]
  },
  {
   "cell_type": "code",
   "execution_count": 9,
   "metadata": {},
   "outputs": [],
   "source": [
    "learn = language_model_learner(data_lm, AWD_LSTM, pretrained=False, drop_mult=0.3)"
   ]
  },
  {
   "cell_type": "code",
   "execution_count": 10,
   "metadata": {},
   "outputs": [
    {
     "data": {
      "text/html": [
       "\n",
       "    <div>\n",
       "        <style>\n",
       "            /* Turns off some styling */\n",
       "            progress {\n",
       "                /* gets rid of default border in Firefox and Opera. */\n",
       "                border: none;\n",
       "                /* Needs to be in here for Safari polyfill so background images work as expected. */\n",
       "                background-size: auto;\n",
       "            }\n",
       "            .progress-bar-interrupted, .progress-bar-interrupted::-webkit-progress-bar {\n",
       "                background: #F44336;\n",
       "            }\n",
       "        </style>\n",
       "      <progress value='0' class='' max='1', style='width:300px; height:20px; vertical-align: middle;'></progress>\n",
       "      0.00% [0/1 00:00<00:00]\n",
       "    </div>\n",
       "    \n",
       "<table border=\"1\" class=\"dataframe\">\n",
       "  <thead>\n",
       "    <tr style=\"text-align: left;\">\n",
       "      <th>epoch</th>\n",
       "      <th>train_loss</th>\n",
       "      <th>valid_loss</th>\n",
       "      <th>accuracy</th>\n",
       "      <th>time</th>\n",
       "    </tr>\n",
       "  </thead>\n",
       "  <tbody>\n",
       "  </tbody>\n",
       "</table><p>\n",
       "\n",
       "    <div>\n",
       "        <style>\n",
       "            /* Turns off some styling */\n",
       "            progress {\n",
       "                /* gets rid of default border in Firefox and Opera. */\n",
       "                border: none;\n",
       "                /* Needs to be in here for Safari polyfill so background images work as expected. */\n",
       "                background-size: auto;\n",
       "            }\n",
       "            .progress-bar-interrupted, .progress-bar-interrupted::-webkit-progress-bar {\n",
       "                background: #F44336;\n",
       "            }\n",
       "        </style>\n",
       "      <progress value='94' class='' max='548', style='width:300px; height:20px; vertical-align: middle;'></progress>\n",
       "      17.15% [94/548 00:33<02:39 29.9956]\n",
       "    </div>\n",
       "    "
      ],
      "text/plain": [
       "<IPython.core.display.HTML object>"
      ]
     },
     "metadata": {},
     "output_type": "display_data"
    },
    {
     "name": "stdout",
     "output_type": "stream",
     "text": [
      "LR Finder is complete, type {learner_name}.recorder.plot() to see the graph.\n"
     ]
    }
   ],
   "source": [
    "learn.lr_find()"
   ]
  },
  {
   "cell_type": "code",
   "execution_count": 11,
   "metadata": {},
   "outputs": [
    {
     "data": {
      "image/png": "[encoded data removed]",
      "text/plain": [
       "<Figure size 432x288 with 1 Axes>"
      ]
     },
     "metadata": {
      "needs_background": "light"
     },
     "output_type": "display_data"
    }
   ],
   "source": [
    "learn.recorder.plot(skip_end=15)"
   ]
  },
  {
   "cell_type": "code",
   "execution_count": 12,
   "metadata": {},
   "outputs": [
    {
     "data": {
      "text/html": [
       "<table border=\"1\" class=\"dataframe\">\n",
       "  <thead>\n",
       "    <tr style=\"text-align: left;\">\n",
       "      <th>epoch</th>\n",
       "      <th>train_loss</th>\n",
       "      <th>valid_loss</th>\n",
       "      <th>accuracy</th>\n",
       "      <th>time</th>\n",
       "    </tr>\n",
       "  </thead>\n",
       "  <tbody>\n",
       "    <tr>\n",
       "      <td>0</td>\n",
       "      <td>5.443477</td>\n",
       "      <td>5.017597</td>\n",
       "      <td>0.159680</td>\n",
       "      <td>03:29</td>\n",
       "    </tr>\n",
       "    <tr>\n",
       "      <td>1</td>\n",
       "      <td>2.433562</td>\n",
       "      <td>2.244404</td>\n",
       "      <td>0.555576</td>\n",
       "      <td>03:29</td>\n",
       "    </tr>\n",
       "    <tr>\n",
       "      <td>2</td>\n",
       "      <td>2.042593</td>\n",
       "      <td>1.897693</td>\n",
       "      <td>0.612153</td>\n",
       "      <td>03:29</td>\n",
       "    </tr>\n",
       "    <tr>\n",
       "      <td>3</td>\n",
       "      <td>1.736705</td>\n",
       "      <td>1.606770</td>\n",
       "      <td>0.670234</td>\n",
       "      <td>03:29</td>\n",
       "    </tr>\n",
       "    <tr>\n",
       "      <td>4</td>\n",
       "      <td>1.452355</td>\n",
       "      <td>1.378989</td>\n",
       "      <td>0.718705</td>\n",
       "      <td>03:29</td>\n",
       "    </tr>\n",
       "    <tr>\n",
       "      <td>5</td>\n",
       "      <td>1.280339</td>\n",
       "      <td>1.271780</td>\n",
       "      <td>0.734539</td>\n",
       "      <td>03:29</td>\n",
       "    </tr>\n",
       "    <tr>\n",
       "      <td>6</td>\n",
       "      <td>1.183174</td>\n",
       "      <td>1.220583</td>\n",
       "      <td>0.743146</td>\n",
       "      <td>03:29</td>\n",
       "    </tr>\n",
       "    <tr>\n",
       "      <td>7</td>\n",
       "      <td>1.096608</td>\n",
       "      <td>1.213706</td>\n",
       "      <td>0.744347</td>\n",
       "      <td>03:29</td>\n",
       "    </tr>\n",
       "  </tbody>\n",
       "</table>"
      ],
      "text/plain": [
       "<IPython.core.display.HTML object>"
      ]
     },
     "metadata": {},
     "output_type": "display_data"
    }
   ],
   "source": [
    "learn.fit_one_cycle(20, 1e-2, moms=(0.8,0.7))"
   ]
  },
  {
   "cell_type": "code",
   "execution_count": 13,
   "metadata": {},
   "outputs": [
    {
     "data": {
      "text/html": [
       "\n",
       "    <div>\n",
       "        <style>\n",
       "            /* Turns off some styling */\n",
       "            progress {\n",
       "                /* gets rid of default border in Firefox and Opera. */\n",
       "                border: none;\n",
       "                /* Needs to be in here for Safari polyfill so background images work as expected. */\n",
       "                background-size: auto;\n",
       "            }\n",
       "            .progress-bar-interrupted, .progress-bar-interrupted::-webkit-progress-bar {\n",
       "                background: #F44336;\n",
       "            }\n",
       "        </style>\n",
       "      <progress value='0' class='' max='1', style='width:300px; height:20px; vertical-align: middle;'></progress>\n",
       "      0.00% [0/1 00:00<00:00]\n",
       "    </div>\n",
       "    \n",
       "<table border=\"1\" class=\"dataframe\">\n",
       "  <thead>\n",
       "    <tr style=\"text-align: left;\">\n",
       "      <th>epoch</th>\n",
       "      <th>train_loss</th>\n",
       "      <th>valid_loss</th>\n",
       "      <th>accuracy</th>\n",
       "      <th>time</th>\n",
       "    </tr>\n",
       "  </thead>\n",
       "  <tbody>\n",
       "  </tbody>\n",
       "</table><p>\n",
       "\n",
       "    <div>\n",
       "        <style>\n",
       "            /* Turns off some styling */\n",
       "            progress {\n",
       "                /* gets rid of default border in Firefox and Opera. */\n",
       "                border: none;\n",
       "                /* Needs to be in here for Safari polyfill so background images work as expected. */\n",
       "                background-size: auto;\n",
       "            }\n",
       "            .progress-bar-interrupted, .progress-bar-interrupted::-webkit-progress-bar {\n",
       "                background: #F44336;\n",
       "            }\n",
       "        </style>\n",
       "      <progress value='88' class='' max='542', style='width:300px; height:20px; vertical-align: middle;'></progress>\n",
       "      16.24% [88/542 00:30<02:36 5.9642]\n",
       "    </div>\n",
       "    "
      ],
      "text/plain": [
       "<IPython.core.display.HTML object>"
      ]
     },
     "metadata": {},
     "output_type": "display_data"
    },
    {
     "name": "stdout",
     "output_type": "stream",
     "text": [
      "LR Finder is complete, type {learner_name}.recorder.plot() to see the graph.\n"
     ]
    },
    {
     "data": {
      "image/png": "[encoded data removed]",
      "text/plain": [
       "<Figure size 432x288 with 1 Axes>"
      ]
     },
     "metadata": {
      "needs_background": "light"
     },
     "output_type": "display_data"
    }
   ],
   "source": [
    "learn.lr_find()\n",
    "learn.recorder.plot(skip_end=15)"
   ]
  },
  {
   "cell_type": "code",
   "execution_count": 11,
   "metadata": {
    "scrolled": false
   },
   "outputs": [
    {
     "data": {
      "text/html": [
       "<table border=\"1\" class=\"dataframe\">\n",
       "  <thead>\n",
       "    <tr style=\"text-align: left;\">\n",
       "      <th>epoch</th>\n",
       "      <th>train_loss</th>\n",
       "      <th>valid_loss</th>\n",
       "      <th>accuracy</th>\n",
       "      <th>time</th>\n",
       "    </tr>\n",
       "  </thead>\n",
       "  <tbody>\n",
       "    <tr>\n",
       "      <td>0</td>\n",
       "      <td>1.266251</td>\n",
       "      <td>1.335158</td>\n",
       "      <td>0.729503</td>\n",
       "      <td>03:30</td>\n",
       "    </tr>\n",
       "    <tr>\n",
       "      <td>1</td>\n",
       "      <td>1.227204</td>\n",
       "      <td>1.297710</td>\n",
       "      <td>0.734841</td>\n",
       "      <td>03:30</td>\n",
       "    </tr>\n",
       "    <tr>\n",
       "      <td>2</td>\n",
       "      <td>1.167325</td>\n",
       "      <td>1.278148</td>\n",
       "      <td>0.737423</td>\n",
       "      <td>03:30</td>\n",
       "    </tr>\n",
       "    <tr>\n",
       "      <td>3</td>\n",
       "      <td>1.129615</td>\n",
       "      <td>1.275830</td>\n",
       "      <td>0.737641</td>\n",
       "      <td>03:30</td>\n",
       "    </tr>\n",
       "  </tbody>\n",
       "</table>"
      ],
      "text/plain": [
       "<IPython.core.display.HTML object>"
      ]
     },
     "metadata": {},
     "output_type": "display_data"
    }
   ],
   "source": [
    "learn.fit_one_cycle(4, 1e-3, moms=(0.8,0.7))"
   ]
  },
  {
   "cell_type": "code",
   "execution_count": 12,
   "metadata": {},
   "outputs": [
    {
     "data": {
      "text/html": [
       "<table border=\"1\" class=\"dataframe\">\n",
       "  <thead>\n",
       "    <tr style=\"text-align: left;\">\n",
       "      <th>epoch</th>\n",
       "      <th>train_loss</th>\n",
       "      <th>valid_loss</th>\n",
       "      <th>accuracy</th>\n",
       "      <th>time</th>\n",
       "    </tr>\n",
       "  </thead>\n",
       "  <tbody>\n",
       "    <tr>\n",
       "      <td>0</td>\n",
       "      <td>1.605754</td>\n",
       "      <td>1.494672</td>\n",
       "      <td>0.698221</td>\n",
       "      <td>03:30</td>\n",
       "    </tr>\n",
       "    <tr>\n",
       "      <td>1</td>\n",
       "      <td>1.252827</td>\n",
       "      <td>1.264091</td>\n",
       "      <td>0.738534</td>\n",
       "      <td>03:30</td>\n",
       "    </tr>\n",
       "  </tbody>\n",
       "</table>"
      ],
      "text/plain": [
       "<IPython.core.display.HTML object>"
      ]
     },
     "metadata": {},
     "output_type": "display_data"
    }
   ],
   "source": [
    "learn.fit_one_cycle(2, 1e-2, moms=(0.8,0.7))"
   ]
  },
  {
   "cell_type": "code",
   "execution_count": 13,
   "metadata": {},
   "outputs": [],
   "source": [
    "learn.export('models/recom_model.pkl')"
   ]
  },
  {
   "cell_type": "code",
   "execution_count": 17,
   "metadata": {},
   "outputs": [],
   "source": [
    "TEXT = 'tok12 tok6 tok1629 tok2018 tok1033 tok2353 tok4229 tok5724 tok779 tok2321 tok371 tok934 tok1171 tok8114 tok9813 tok0 tok2008 tok3407 tok3534 tok9368 tok55 tok1 tok10 tok5818 tok288 tok1780 tok13 tok1631 tok540 tok5 tok7821 tok429 tok42 tok2155 tok2156 tok2157 tok1781 tok2158 tok2159 tok2160 tok2 tok7 tok3 tok8 tok356 tok126 tok86 tok34 tok1095 tok6235 tok6236 tok5 tok9813 tok0 tok14 tok1291 tok273 tok5353 tok9821 tok9 tok141 tok5716 tok1040 tok949 tok1908 tok5717 tok2859 tok5209 tok731 tok8 tok5614 tok6 tok13 tok2 tok5565 tok4750 tok1112 tok2353 tok2099 tok184 tok15 tok235 tok1832 tok33 tok635 tok329 tok5745 tok5746 tok5747 tok5748 tok5749 tok5750 tok12 tok216 tok3196 tok5425 tok2011 tok2046 tok413 tok449 tok0 tok10 tok5 tok11 tok776 tok777 tok1600 tok1851 tok4678 tok2861 tok429 tok9813 tok5912 tok12 tok2 tok696 tok460 tok606 tok3207 tok2363 tok859 tok7257 tok2479 tok77 tok3198 tok2506 tok8 tok3209 tok1208 tok452 tok7258 tok7259 tok3 tok358 tok21 tok333 tok1451 tok540 tok1171 tok1452 tok16 tok1579 tok113 tok3373 tok1891'\n",
    "N_WORDS = 20\n",
    "N_SENTENCES = 1"
   ]
  },
  {
   "cell_type": "code",
   "execution_count": 59,
   "metadata": {},
   "outputs": [],
   "source": [
    "pred = learn.predict(TEXT, N_WORDS, temperature=0.75)[len(TEXT) + 1:].split()\n",
    "new_movie_desc = []\n",
    "for token in pred:\n",
    "    if token == 'xxeos':\n",
    "        break\n",
    "    new_movie_desc.append(token)\n",
    "\n",
    "list(dict.fromkeys(new_movie_desc))"
   ]
  },
  {
   "cell_type": "code",
   "execution_count": 60,
   "metadata": {},
   "outputs": [
    {
     "data": {
      "text/plain": [
       "['tok5',\n",
       " 'tok10',\n",
       " 'tok16',\n",
       " 'tok8',\n",
       " 'tok2',\n",
       " 'tok839',\n",
       " 'tok113',\n",
       " 'tok113',\n",
       " 'tok2161',\n",
       " 'tok9619',\n",
       " 'tok529',\n",
       " 'tok3594',\n",
       " 'tok113',\n",
       " 'tok3478',\n",
       " 'tok3479',\n",
       " 'tok3480',\n",
       " 'tok3481',\n",
       " 'tok3482',\n",
       " 'tok3483',\n",
       " 'tok3484']"
      ]
     },
     "execution_count": 60,
     "metadata": {},
     "output_type": "execute_result"
    }
   ],
   "source": [
    "new_movie_desc"
   ]
  },
  {
   "cell_type": "code",
   "execution_count": null,
   "metadata": {},
   "outputs": [],
   "source": []
  }
 ],
 "metadata": {
  "kernelspec": {
   "display_name": "Python 3",
   "language": "python",
   "name": "python3"
  },
  "language_info": {
   "codemirror_mode": {
    "name": "ipython",
    "version": 3
   },
   "file_extension": ".py",
   "mimetype": "text/x-python",
   "name": "python",
   "nbconvert_exporter": "python",
   "pygments_lexer": "ipython3",
   "version": "3.7.6"
  }
 },
 "nbformat": 4,
 "nbformat_minor": 2
}
